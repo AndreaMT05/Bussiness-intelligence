{
  "nbformat": 4,
  "nbformat_minor": 0,
  "metadata": {
    "colab": {
      "provenance": [],
      "authorship_tag": "ABX9TyNy1NdGWIiCHj9/jUa43Nq0",
      "include_colab_link": true
    },
    "kernelspec": {
      "name": "python3",
      "display_name": "Python 3"
    },
    "language_info": {
      "name": "python"
    }
  },
  "cells": [
    {
      "cell_type": "markdown",
      "metadata": {
        "id": "view-in-github",
        "colab_type": "text"
      },
      "source": [
        "<a href=\"https://colab.research.google.com/github/AndreaMT05/Bussiness-intelligence/blob/main/Reto_2_Arbol_de_decisi%C3%B3n.ipynb\" target=\"_parent\"><img src=\"https://colab.research.google.com/assets/colab-badge.svg\" alt=\"Open In Colab\"/></a>"
      ]
    },
    {
      "cell_type": "markdown",
      "source": [
        "El analisis de decisión será en base a 7 variables socioeconomicas de los estudiantes que son admitidos en la universidad.\n",
        "\n",
        "Descripción de las variables\n",
        "\n",
        "- Edu_Parent1: Indica el nivel educativo alcanzado por el primer padre o tutor del solicitante.\n",
        "- Edu_Parent2: Indica el nivel educativo alcanzado por el segundo padre o tutor del solicitante.\n",
        "- Gender: Representa el género del solicitante, donde 0 corresponde a masculino y 1 a femenino.\n",
        "- White: Variable binaria que indica si el solicitante se identifica como blanco (1) o no (0).\n",
        "- Asian: Variable binaria que indica si el solicitante se identifica como asiático (1) o no (0).\n",
        "- HSGPA: Promedio de calificaciones obtenido por el solicitante en la educación secundaria (High School GPA).\n",
        "- SAT/ACT: Puntaje obtenido por el solicitante en los exámenes de admisión estandarizados SAT o ACT.\n",
        "- Admitted_Pred: Indica la admisión del solicitante a la universidad, donde 1 significa admitido y 0 significa no admitido."
      ],
      "metadata": {
        "id": "arQvfK-tCCu9"
      }
    },
    {
      "cell_type": "markdown",
      "source": [
        "0. Cargamos las librerias de datos"
      ],
      "metadata": {
        "id": "wX2aDIN35MZ0"
      }
    },
    {
      "cell_type": "code",
      "source": [
        "#Librerias\n",
        "import numpy as np\n",
        "import pandas as pd\n",
        "\n",
        "#Librerias arbol\n",
        "from sklearn.tree import DecisionTreeClassifier\n",
        "from sklearn.metrics import confusion_matrix\n",
        "\n",
        "#Conectar Drive\n",
        "from google.colab import drive\n",
        "drive.mount('/content/drive')"
      ],
      "metadata": {
        "colab": {
          "base_uri": "https://localhost:8080/"
        },
        "id": "teJYhI6U5SCx",
        "outputId": "5a74c7b2-d42b-4ccb-9826-45e64128f8bc"
      },
      "execution_count": null,
      "outputs": [
        {
          "output_type": "stream",
          "name": "stdout",
          "text": [
            "Mounted at /content/drive\n"
          ]
        }
      ]
    },
    {
      "cell_type": "markdown",
      "source": [
        "1. Cargamos la base de datos"
      ],
      "metadata": {
        "id": "71bJ1l786hRh"
      }
    },
    {
      "cell_type": "code",
      "source": [
        "nxl= '/content/sample_data/2. CollegeAdmisions_Int_M.xlsx'\n",
        "XDB= pd.read_excel(nxl, sheet_name=0)\n",
        "XDB=XDB.dropna()\n",
        "XDB.head(100)\n",
        "\n",
        "#Cambiaremos la variable 'Gender'\n",
        "XDB ['Gender'] = XDB['Gender'].map({'M':0,'F':1})\n",
        "\n",
        "XD=XDB[['Edu_Parent1','Edu_Parent2','Gender','White','Asian','HSGPA','SAT/ACT']]\n",
        "YD=XDB[['Admitted']]"
      ],
      "metadata": {
        "id": "5jQOC1gL6j2r"
      },
      "execution_count": null,
      "outputs": []
    },
    {
      "cell_type": "markdown",
      "source": [
        "2. Contar # de personas admitidas por la universidad"
      ],
      "metadata": {
        "id": "izZO8lBy8G9o"
      }
    },
    {
      "cell_type": "code",
      "source": [
        "#cambio de variable 'admitted' el YES o NO por 1 o 0\n",
        "XDB['Admitted']= XDB['Admitted'].map({'Yes':1,'No':0})\n",
        "\n",
        "#Contamos el numero de datos de la base\n",
        "total_datos=len(XDB)\n",
        "print(f\"El numero total de datos de la base es:{total_datos}\")\n",
        "\n",
        "#contamos numero de personas admitidas\n",
        "admitidos =XDB['Admitted'].sum()\n",
        "print(f\"El numero total de datos de la base es: {admitidos}\")"
      ],
      "metadata": {
        "colab": {
          "base_uri": "https://localhost:8080/"
        },
        "id": "uDPFHN1t8Lsf",
        "outputId": "f4330b48-3e44-4cfa-c986-e325006c0a47"
      },
      "execution_count": null,
      "outputs": [
        {
          "output_type": "stream",
          "name": "stdout",
          "text": [
            "El numero total de datos de la base es:1528\n",
            "El numero total de datos de la base es: 1303\n"
          ]
        }
      ]
    },
    {
      "cell_type": "markdown",
      "source": [
        "3. Comencemos con la implementación del modelo"
      ],
      "metadata": {
        "id": "XISG-Djy9WcS"
      }
    },
    {
      "cell_type": "code",
      "source": [
        "mar=DecisionTreeClassifier(criterion='gini', max_depth=4)\n",
        "mar.fit(XD,YD)\n",
        "\n",
        "#Realizar la grafica de arbol de decision\n",
        "from pydotplus import graph_from_dot_data\n",
        "from sklearn.tree import export_graphviz\n",
        "\n",
        "ve=['Edu_Parent1','Edu_Parent2','Gender','White','Asian','HSGPA','SAT/ACT']\n",
        "dot_data=export_graphviz(mar, feature_names=ve, filled=True, rounded=True)\n",
        "graph=graph_from_dot_data(dot_data)\n",
        "graph.write_png('Reto#2. Arbol de decision.png')"
      ],
      "metadata": {
        "colab": {
          "base_uri": "https://localhost:8080/"
        },
        "id": "01AuqBBI9aay",
        "outputId": "a2ea683d-b908-499e-c348-263996ce6f96"
      },
      "execution_count": null,
      "outputs": [
        {
          "output_type": "execute_result",
          "data": {
            "text/plain": [
              "True"
            ]
          },
          "metadata": {},
          "execution_count": 8
        }
      ]
    },
    {
      "cell_type": "markdown",
      "source": [
        "Determinar numero de nodos para el arbol segun la estructura del modelo"
      ],
      "metadata": {
        "id": "Mz5IlcFM-KYP"
      }
    },
    {
      "cell_type": "code",
      "source": [
        "nodos_puros = sum(mar.tree_.impurity == 0.0)\n",
        "print(f\"Número de nodos puros en el árbol: {nodos_puros}\")"
      ],
      "metadata": {
        "colab": {
          "base_uri": "https://localhost:8080/"
        },
        "id": "NpGNf6Dt-RPW",
        "outputId": "adc8fc93-d406-4751-cfbd-17e5ae8e79f1"
      },
      "execution_count": null,
      "outputs": [
        {
          "output_type": "stream",
          "name": "stdout",
          "text": [
            "Número de nodos puros en el árbol: 7\n"
          ]
        }
      ]
    },
    {
      "cell_type": "markdown",
      "source": [
        "5. continuamos con el pronostico de estudiantes"
      ],
      "metadata": {
        "id": "-yD0sJqp-VHX"
      }
    },
    {
      "cell_type": "code",
      "source": [
        "# Cargar la base de datos de pronóstico\n",
        "XDB0 = pd.read_excel(nxl, sheet_name=1)\n",
        "XDB0.head(100)\n",
        "\n",
        "# Convertir 'Gender' a valores numéricos\n",
        "XDB0['Gender'] = XDB0['Gender'].map({'M': 0, 'F': 1})\n",
        "\n",
        "# Convertir 'Admitted' a valores numéricos\n",
        "XDB0['Admitted'] = XDB0['Admitted'].map({'Yes': 1, 'No': 0})\n",
        "\n",
        "# Seleccionar las variables de entrada y salida\n",
        "XD0 = XDB0[['Edu_Parent1', 'Edu_Parent2', 'Gender', 'White', 'Asian', 'HSGPA', 'SAT/ACT']].values\n",
        "YD0 = XDB0[['Admitted']].values  # Esto es solo para referencia, no se usa en la predicción\n",
        "\n",
        "# Realizar el pronóstico de admisión para todos los estudiantes\n",
        "y_pred = mar.predict(XD0)\n",
        "\n",
        "# Crear el informe en Excel con los resultados\n",
        "df = pd.DataFrame(np.column_stack((XDB0.index, XD0, y_pred)))\n",
        "df.columns = ['Solicitante', 'Edu_Parent1', 'Edu_Parent2', 'Gender', 'White', 'Asian', 'HSGPA', 'SAT/ACT', 'Admitted_Pred']\n",
        "\n",
        "#Guardar en excel con resultados\n",
        "df.to_excel(\"/content/drive/MyDrive/2. CollegeAdmisions_Int_M.xlsx\")\n",
        "\n",
        "print(\"El pronostico de admision ha sido guardado en '2. CollegeAdmisions_Int_M.xlsx\")"
      ],
      "metadata": {
        "colab": {
          "base_uri": "https://localhost:8080/"
        },
        "id": "l2J-htNg-Zpp",
        "outputId": "4e322e63-0979-42e1-d366-1ef4bbc56f8f"
      },
      "execution_count": null,
      "outputs": [
        {
          "output_type": "stream",
          "name": "stdout",
          "text": [
            "El pronostico de admision ha sido guardado en '2. CollegeAdmisions_Int_M.xlsx\n"
          ]
        },
        {
          "output_type": "stream",
          "name": "stderr",
          "text": [
            "/usr/local/lib/python3.11/dist-packages/sklearn/utils/validation.py:2739: UserWarning: X does not have valid feature names, but DecisionTreeClassifier was fitted with feature names\n",
            "  warnings.warn(\n"
          ]
        }
      ]
    },
    {
      "cell_type": "markdown",
      "source": [
        "6. Evaluar rendimiento"
      ],
      "metadata": {
        "id": "kcpRzM3m_PVY"
      }
    },
    {
      "cell_type": "code",
      "source": [
        "YDP=mar.predict(XD) #Pronóstico sobre la base de datos original\n",
        "cm=confusion_matrix(YD,YDP)\n",
        "print(\"La matriz de confusión es: \\n\", cm)\n",
        "\n",
        "VN=cm[0,0];FP=cm[0,1];FN=cm[1,0];VP=cm[1,1]\n",
        "\n",
        "#Métricas de desempeño\n",
        "EX=(VP+VN)/(VP+VN+FP+FN) #Exactitud\n",
        "print('La exactitud del modelo es:\\n',EX)\n",
        "\n",
        "TE=(FN+FP)/(VP+VN+FP+FN) #Tasa de error:\n",
        "print('La tasa de error del modelo es:\\n',TE)\n",
        "\n",
        "SE=VP/(VP+FN) #Sensibilidad\n",
        "print('La sensibilidad del modelo es:\\n',SE)\n",
        "\n",
        "SP=VN/(VN+FP) #Especificidad\n",
        "print('La especificidad del modelo es:\\n',SP)\n",
        "\n",
        "PR=VP/(VP+FP) #Precisión\n",
        "print('La precisión del modelo es:\\n',PR)\n",
        "\n",
        "PRNeng=VN/(VN+FN) #Precisión Negativa\n",
        "print('La precisión negativa del modelo es:\\n',PRNeng)"
      ],
      "metadata": {
        "colab": {
          "base_uri": "https://localhost:8080/"
        },
        "id": "ng0S-eaE_Suy",
        "outputId": "8824977c-c55c-4860-c705-0e177b38f9c7"
      },
      "execution_count": null,
      "outputs": [
        {
          "output_type": "stream",
          "name": "stdout",
          "text": [
            "La matriz de confusión es: \n",
            " [[  20  205]\n",
            " [   2 1301]]\n",
            "La exactitud del modelo es:\n",
            " 0.8645287958115183\n",
            "La tasa de error del modelo es:\n",
            " 0.1354712041884817\n",
            "La sensibilidad del modelo es:\n",
            " 0.9984650805832693\n",
            "La especificidad del modelo es:\n",
            " 0.08888888888888889\n",
            "La precisión del modelo es:\n",
            " 0.8638778220451527\n",
            "La precisión negativa del modelo es:\n",
            " 0.9090909090909091\n"
          ]
        }
      ]
    },
    {
      "cell_type": "markdown",
      "source": [
        "Analisis\n",
        "\n",
        "Todo el modelo en total tuvo 1528 registros en donde se observo que 1303 fueron admitidos los estudiantes y solo 225 no lo fueron.\n",
        "\n",
        "Dentro de los verdaderos positivos se encuentran 1301 estudiantes admitidos y solo 20 no adminitidos que son los verdaderos negativos. De los estudiantes 205 en realidad no fueron admitidos aunque así fueron clasificados, es decir, falsos positivos; solo 2 admitidos fueron clasificados de forma errada como no admitidos (falsos negativos).\n",
        "\n",
        "La mayoria de los valores estan por encima del 75% en el modelo, lo que permite ver el buen funcionamiento de este. La exactitud general del modelo es 86.45%, lo que indica un buen desempeño en la clasificación. La sensibilidad fue de 99.85% y muestra que identifica correctamente casi todos los admitidos, su precisión fue del 86.39% indica que la mayoría de los clasificados como admitidos realmente lo son. Sin embargo, la especificidad es solo del 8.89%, lo que sugiere que el modelo tiene dificultades para detectar los no admitidos, clasificando erróneamente a muchos de ellos. Esto se refleja en una tasa de error del 13.55%. La precisión negativa es del 90.91%, lo que significa que la mayoría de los clasificados como no admitidos lo fueron correctamente.\n",
        "\n",
        "En general, es un modelo confiable para predecir admisiones pero necesita sus ajustes para terminar de identificar al 100% los estudiantes que son o no admitidos."
      ],
      "metadata": {
        "id": "vhaULVprGN9i"
      }
    }
  ]
}